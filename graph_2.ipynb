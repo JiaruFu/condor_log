{
 "cells": [
  {
   "cell_type": "code",
   "execution_count": null,
   "metadata": {},
   "outputs": [],
   "source": [
    "%load_ext autoreload\n",
    "%autoreload 2\n",
    "\n",
    "import datetime\n",
    "\n",
    "import altair as alt\n",
    "\n",
    "from graph_2 import graph"
   ]
  },
  {
   "cell_type": "code",
   "execution_count": null,
   "metadata": {
    "collapsed": false,
    "jupyter": {
     "outputs_hidden": false
    },
    "pycharm": {
     "name": "#%%\n"
    }
   },
   "outputs": [],
   "source": [
    "time = {12729372: {0: {'SUBMIT': datetime.datetime(2020, 3, 12, 14, 43, 48), 'JOB_HELD': datetime.datetime(2020, 3, 12, 14, 44, 2), 'JOB_RELEASED': datetime.datetime(2020, 3, 12, 14, 44, 9), 'FILE_TRANSFER': datetime.datetime(2020, 3, 13, 14, 48, 48), 'EXECUTE': datetime.datetime(2020, 3, 12, 14, 45, 47), 'IMAGE_SIZE': datetime.datetime(2020, 3, 12, 14, 45, 56), 'JOB_TERMINATED': datetime.datetime(2020, 3, 13, 14, 48, 48)}, 1: {'SUBMIT': datetime.datetime(2020, 3, 12, 14, 43, 48), 'JOB_HELD': datetime.datetime(2020, 3, 13, 14, 44, 2), 'JOB_RELEASED': datetime.datetime(2020, 3, 13, 14, 44, 9), 'FILE_TRANSFER': datetime.datetime(2020, 3, 13, 14, 48, 48), 'EXECUTE': datetime.datetime(2020, 3, 13, 14, 45, 48), 'IMAGE_SIZE': datetime.datetime(2020, 3, 13, 14, 48, 48), 'JOB_TERMINATED': datetime.datetime(2020, 3, 13, 14, 48, 48)}, 2: {'SUBMIT': datetime.datetime(2020, 3, 12, 14, 43, 48), 'JOB_HELD': datetime.datetime(2020, 3, 12, 14, 44, 2), 'JOB_RELEASED': datetime.datetime(2020, 3, 12, 14, 44, 9), 'FILE_TRANSFER': datetime.datetime(2020, 3, 13, 14, 48, 53), 'EXECUTE': datetime.datetime(2020, 3, 12, 14, 45, 53), 'IMAGE_SIZE': datetime.datetime(2020, 3, 12, 14, 46, 2), 'JOB_TERMINATED': datetime.datetime(2020, 3, 13, 14, 48, 53)}}}\n",
    "graph(time).display()"
   ]
  },
  {
   "cell_type": "code",
   "execution_count": null,
   "metadata": {},
   "outputs": [],
   "source": []
  }
 ],
 "metadata": {
  "kernelspec": {
   "display_name": "Python 3",
   "language": "python",
   "name": "python3"
  },
  "language_info": {
   "codemirror_mode": {
    "name": "ipython",
    "version": 3
   },
   "file_extension": ".py",
   "mimetype": "text/x-python",
   "name": "python",
   "nbconvert_exporter": "python",
   "pygments_lexer": "ipython3",
   "version": "3.7.4"
  }
 },
 "nbformat": 4,
 "nbformat_minor": 4
}
